{
 "cells": [
  {
   "cell_type": "markdown",
   "id": "bfdd230d-1a84-4dcc-b3a5-203ae17f141d",
   "metadata": {},
   "source": [
    "## Import the FABlib Library"
   ]
  },
  {
   "cell_type": "code",
   "execution_count": null,
   "id": "0870709c-d239-48ae-a8bd-d3e88f0a0fb2",
   "metadata": {},
   "outputs": [],
   "source": [
    "from fabrictestbed_extensions.fablib.fablib import FablibManager as fablib_manager\n",
    "fablib = fablib_manager()\n",
    "fablib.show_config();"
   ]
  },
  {
   "cell_type": "markdown",
   "id": "3250f432-c873-4a03-b200-460e27205438",
   "metadata": {},
   "source": [
    "## Create the Experiment Slice"
   ]
  },
  {
   "cell_type": "code",
   "execution_count": null,
   "id": "39140723-b22e-4e8b-847e-17da55cf1da9",
   "metadata": {},
   "outputs": [],
   "source": [
    "slice_name = '{SLICE_NAME}'\n",
    "[site1,site2, site3, site4, site5]  = fablib.get_random_sites(count=5)\n",
    "print(f\"Sites: {site1}, {site2}, {site3}, {site4}, {site5}\")"
   ]
  },
  {
   "cell_type": "code",
   "execution_count": null,
   "id": "75cf4227-a9d1-4883-a697-cd27f459e88f",
   "metadata": {},
   "outputs": [],
   "source": [
    "# naming nodes\n",
    "node1_name = 'scion01'\n",
    "node2_name = 'scion02'\n",
    "node3_name = 'scion03'\n",
    "node4_name = 'scion04'\n",
    "node5_name = 'scion05'"
   ]
  },
  {
   "cell_type": "code",
   "execution_count": null,
   "id": "ab31cd96-9937-44c6-a4f4-80bdf0439970",
   "metadata": {},
   "outputs": [],
   "source": [
    "# creating l2 networks\n",
    "network_name12='net12'\n",
    "network_name14='net14'\n",
    "network_name13='net13'\n",
    "network_name23='net23'\n",
    "network_name25='net25'\n",
    "network_name34='net34'\n",
    "network_name35='net35'"
   ]
  },
  {
   "cell_type": "code",
   "execution_count": null,
   "id": "130f4152-cf4f-4095-b923-9b08d3d7d4c6",
   "metadata": {},
   "outputs": [],
   "source": [
    "# namic NICs\n",
    "node1a_nic_name = 'nic1a'\n",
    "node1b_nic_name = 'nic1b'\n",
    "node1c_nic_name = 'nic1c'\n",
    "node2a_nic_name = 'nic2a'\n",
    "node2b_nic_name = 'nic2b'\n",
    "node2c_nic_name = 'nic2c'\n",
    "node3a_nic_name = 'nic3a'\n",
    "node3b_nic_name = 'nic3b'\n",
    "node3c_nic_name = 'nic3c'\n",
    "node3d_nic_name = 'nic3d'\n",
    "node4a_nic_name = 'nic4a'\n",
    "node4b_nic_name = 'nic4b'\n",
    "node5a_nic_name = 'nic5a'\n",
    "node5b_nic_name = 'nic5b'"
   ]
  },
  {
   "cell_type": "markdown",
   "id": "70225ff3-aa04-4581-b50d-28674c1f92e3",
   "metadata": {},
   "source": [
    "Create slice"
   ]
  },
  {
   "cell_type": "code",
   "execution_count": null,
   "id": "04d7d520-9fd7-4f36-a1f4-07c9c04f8f5b",
   "metadata": {},
   "outputs": [],
   "source": [
    "#slice = fablib.new_slice(name=slice_name)\n",
    "slice = fablib.get_slice(name=slice_name)"
   ]
  },
  {
   "cell_type": "code",
   "execution_count": null,
   "id": "7fb3202f-3b38-464a-90c3-846316d0552d",
   "metadata": {},
   "outputs": [],
   "source": [
    "# Node1\n",
    "node1 = slice.add_node(name=node1_name, site=site1, cores=4, ram=16, disk=50, image='default_ubuntu_22')\n",
    "iface1a = node1.add_component(model='NIC_Basic', name=node1a_nic_name).get_interfaces()[0]\n",
    "iface1b = node1.add_component(model='NIC_Basic', name=node1b_nic_name).get_interfaces()[0]\n",
    "iface1c = node1.add_component(model='NIC_Basic', name=node1c_nic_name).get_interfaces()[0]\n",
    "\n",
    "# Node2\n",
    "node2 = slice.add_node(name=node2_name, site=site2, cores=4, ram=16, disk=50, image='default_ubuntu_22')\n",
    "iface2a = node2.add_component(model='NIC_Basic', name=node2a_nic_name).get_interfaces()[0]\n",
    "iface2b = node2.add_component(model='NIC_Basic', name=node2b_nic_name).get_interfaces()[0]\n",
    "iface2c = node2.add_component(model='NIC_Basic', name=node2c_nic_name).get_interfaces()[0]\n",
    "\n",
    "# Node3\n",
    "node3 = slice.add_node(name=node3_name, site=site3, cores=4, ram=16, disk=50, image='default_ubuntu_22')\n",
    "iface3a = node3.add_component(model='NIC_Basic', name=node3a_nic_name).get_interfaces()[0]\n",
    "iface3b = node3.add_component(model='NIC_Basic', name=node3b_nic_name).get_interfaces()[0]\n",
    "iface3c = node3.add_component(model='NIC_Basic', name=node3c_nic_name).get_interfaces()[0]\n",
    "iface3d = node3.add_component(model='NIC_Basic', name=node3d_nic_name).get_interfaces()[0]\n",
    "\n",
    "# Node4\n",
    "node4 = slice.add_node(name=node4_name, site=site4, cores=4, ram=16, disk=50, image='default_ubuntu_22')\n",
    "iface4a = node4.add_component(model='NIC_Basic', name=node4a_nic_name).get_interfaces()[0]\n",
    "iface4b = node4.add_component(model='NIC_Basic', name=node4b_nic_name).get_interfaces()[0]\n",
    "\n",
    "# Node5\n",
    "node5 = slice.add_node(name=node5_name, site=site5, cores=4, ram=16, disk=50, image='default_ubuntu_22')\n",
    "iface5a = node5.add_component(model='NIC_Basic', name=node5a_nic_name).get_interfaces()[0]\n",
    "iface5b = node5.add_component(model='NIC_Basic', name=node5b_nic_name).get_interfaces()[0]"
   ]
  },
  {
   "cell_type": "code",
   "execution_count": null,
   "id": "3e2e2223-df30-4eed-bd78-b7af93eb2826",
   "metadata": {},
   "outputs": [],
   "source": [
    "# Network\n",
    "net12 = slice.add_l2network(name=network_name12, interfaces=[iface1b, iface2a])\n",
    "net13 = slice.add_l2network(name=network_name13, interfaces=[iface1c, iface3a])\n",
    "net14 = slice.add_l2network(name=network_name14, interfaces=[iface1a, iface4a])\n",
    "net23 = slice.add_l2network(name=network_name23, interfaces=[iface2b, iface3b])\n",
    "net25 = slice.add_l2network(name=network_name25, interfaces=[iface2c, iface5a])\n",
    "net34 = slice.add_l2network(name=network_name34, interfaces=[iface3c, iface4b])\n",
    "net35 = slice.add_l2network(name=network_name35, interfaces=[iface3d, iface5b])\n",
    "#Submit Slice Request\n",
    "slice.submit();"
   ]
  },
  {
   "cell_type": "markdown",
   "id": "a7b124bc-5960-41f9-b467-1af3646e124a",
   "metadata": {},
   "source": [
    "### Extending Slice reservation"
   ]
  },
  {
   "cell_type": "code",
   "execution_count": null,
   "id": "332855b3-94a6-44c3-bf9b-399d2ec3765c",
   "metadata": {},
   "outputs": [],
   "source": [
    "from datetime import datetime\n",
    "from datetime import timezone\n",
    "from datetime import timedelta\n",
    "\n",
    "#Set end host to now plus 1 day\n",
    "end_date = (datetime.now(timezone.utc) + timedelta(days=12)).strftime(\"%Y-%m-%d %H:%M:%S %z\")\n",
    "\n",
    "try:\n",
    "    slice = fablib.get_slice(name=slice_name)\n",
    "\n",
    "    slice.renew(end_date)\n",
    "except Exception as e:\n",
    "    print(f\"Exception: {e}\")\n",
    "    \n",
    "try:\n",
    "    slice = fablib.get_slice(name=slice_name)\n",
    "    print(f\"Lease End (UTC)        : {slice.get_lease_end()}\")\n",
    "       \n",
    "except Exception as e:\n",
    "    print(f\"Exception: {e}\")"
   ]
  },
  {
   "cell_type": "markdown",
   "id": "3838ec4b-0c22-487e-85db-f6c2a9627936",
   "metadata": {},
   "source": [
    "## IP addressing"
   ]
  },
  {
   "cell_type": "code",
   "execution_count": null,
   "id": "3b07b2f1-83b6-49b5-839e-5b68c3203472",
   "metadata": {},
   "outputs": [],
   "source": [
    "from ipaddress import ip_address, IPv4Address, IPv6Address, IPv4Network, IPv6Network\n",
    "\n",
    "subnet1 = IPv4Network(\"{SUBNET1}\")\n",
    "subnet2 = IPv4Network(\"{SUBNET2}\")\n",
    "subnet3 = IPv4Network(\"{SUBNET3}\")\n",
    "subnet4 = IPv4Network(\"{SUBNET4}\")\n",
    "subnet5 = IPv4Network(\"{SUBNET5}\")\n",
    "subnet6 = IPv4Network(\"{SUBNET6}\")\n",
    "subnet7 = IPv4Network(\"{SUBNET7}\")\n",
    "\n",
    "available_ips1 = list(subnet1)[1:]\n",
    "available_ips2 = list(subnet2)[1:]\n",
    "available_ips3 = list(subnet3)[1:]\n",
    "available_ips4 = list(subnet4)[1:]\n",
    "available_ips5 = list(subnet5)[1:]\n",
    "available_ips6 = list(subnet6)[1:]\n",
    "available_ips7 = list(subnet7)[1:]"
   ]
  },
  {
   "cell_type": "markdown",
   "id": "df62af91-3158-49f7-961e-37e4d6896003",
   "metadata": {},
   "source": [
    "## Assigning IPs to nodes"
   ]
  },
  {
   "cell_type": "code",
   "execution_count": null,
   "id": "34b7a998-3ccc-403b-96ac-d188be3b0568",
   "metadata": {},
   "outputs": [],
   "source": [
    "#node1\n",
    "node1 = slice.get_node(name=node1_name)\n",
    "#net14\n",
    "node1_ifacea = node1.get_interface(network_name=network_name14) \n",
    "node1_addra = available_ips6.pop(0)\n",
    "node1_ifacea.ip_addr_add(addr=node1_addra, subnet=subnet6)\n",
    "stdout, stderr = node1.execute(f'ip addr show {node1_ifacea.get_device_name()}')\n",
    "\n",
    "#net12\n",
    "node1_ifaceb = node1.get_interface(network_name=network_name12) \n",
    "node1_addrb = available_ips5.pop(0)\n",
    "node1_ifaceb.ip_addr_add(addr=node1_addrb, subnet=subnet5)\n",
    "stdout, stderr = node1.execute(f'ip addr show {node1_ifaceb.get_device_name()}')\n",
    "\n",
    "#net13\n",
    "node1_ifacec = node1.get_interface(network_name=network_name13) \n",
    "node1_addrc = available_ips1.pop(0)\n",
    "node1_ifacec.ip_addr_add(addr=node1_addrc, subnet=subnet1)\n",
    "stdout, stderr = node1.execute(f'ip addr show {node1_ifacec.get_device_name()}')\n",
    "\n",
    "#node2\n",
    "node2 = slice.get_node(name=node2_name)\n",
    "#net21\n",
    "node2_ifacea = node2.get_interface(network_name=network_name12) \n",
    "node2_addra = available_ips5.pop(0)\n",
    "node2_ifacea.ip_addr_add(addr=node2_addra, subnet=subnet5)\n",
    "stdout, stderr = node2.execute(f'ip addr show {node2_ifacea.get_device_name()}')\n",
    "\n",
    "#net23\n",
    "node2_ifaceb = node2.get_interface(network_name=network_name23) \n",
    "node2_addrb = available_ips2.pop(0)\n",
    "node2_ifaceb.ip_addr_add(addr=node2_addrb, subnet=subnet2)\n",
    "stdout, stderr = node2.execute(f'ip addr show {node2_ifaceb.get_device_name()}')\n",
    "\n",
    "#net25\n",
    "node2_ifacec = node2.get_interface(network_name=network_name25) \n",
    "node2_addrc = available_ips7.pop(0)\n",
    "node2_ifacec.ip_addr_add(addr=node2_addrc, subnet=subnet7)\n",
    "stdout, stderr = node2.execute(f'ip addr show {node2_ifacec.get_device_name()}')\n",
    "\n",
    "#node3\n",
    "node3 = slice.get_node(name=node3_name)\n",
    "\n",
    "#net31\n",
    "node3_ifacea = node3.get_interface(network_name=network_name13) \n",
    "node3_addra = available_ips1.pop(0)\n",
    "node3_ifacea.ip_addr_add(addr=node3_addra, subnet=subnet1)\n",
    "stdout, stderr = node3.execute(f'ip addr show {node3_ifacea.get_device_name()}')\n",
    "\n",
    "#net32\n",
    "node3_ifaceb = node3.get_interface(network_name=network_name23) \n",
    "node3_addrb = available_ips2.pop(0)\n",
    "node3_ifaceb.ip_addr_add(addr=node3_addrb, subnet=subnet2)\n",
    "stdout, stderr = node3.execute(f'ip addr show {node3_ifaceb.get_device_name()}')\n",
    "\n",
    "#net34\n",
    "node3_ifacec = node3.get_interface(network_name=network_name34) \n",
    "node3_addrc = available_ips3.pop(0)\n",
    "node3_ifacec.ip_addr_add(addr=node3_addrc, subnet=subnet3)\n",
    "stdout, stderr = node3.execute(f'ip addr show {node3_ifacec.get_device_name()}')\n",
    "\n",
    "#net35\n",
    "node3_ifaced = node3.get_interface(network_name=network_name35) \n",
    "node3_addrd = available_ips4.pop(0)\n",
    "node3_ifaced.ip_addr_add(addr=node3_addrd, subnet=subnet4)\n",
    "stdout, stderr = node3.execute(f'ip addr show {node3_ifaced.get_device_name()}')\n",
    "\n",
    "#node4\n",
    "node4 = slice.get_node(name=node4_name)\n",
    "\n",
    "#net41\n",
    "node4_ifacea = node4.get_interface(network_name=network_name14) \n",
    "node4_addra = available_ips6.pop(0)\n",
    "node4_ifacea.ip_addr_add(addr=node4_addra, subnet=subnet6)\n",
    "stdout, stderr = node4.execute(f'ip addr show {node4_ifacea.get_device_name()}')\n",
    "\n",
    "#net43\n",
    "node4_ifaceb = node4.get_interface(network_name=network_name34) \n",
    "node4_addrb = available_ips3.pop(0)\n",
    "node4_ifaceb.ip_addr_add(addr=node4_addrb, subnet=subnet3)\n",
    "stdout, stderr = node4.execute(f'ip addr show {node4_ifaceb.get_device_name()}')\n",
    "\n",
    "#node5\n",
    "node5 = slice.get_node(name=node5_name)\n",
    "\n",
    "#net52\n",
    "node5_ifacea = node5.get_interface(network_name=network_name25) \n",
    "node5_addra = available_ips7.pop(0)\n",
    "node5_ifacea.ip_addr_add(addr=node5_addra, subnet=subnet7)\n",
    "stdout, stderr = node5.execute(f'ip addr show {node5_ifacea.get_device_name()}')\n",
    "\n",
    "#net53\n",
    "node5_ifaceb = node5.get_interface(network_name=network_name35) \n",
    "node5_addrb = available_ips4.pop(0)\n",
    "node5_ifaceb.ip_addr_add(addr=node5_addrb, subnet=subnet4)\n",
    "stdout, stderr = node5.execute(f'ip addr show {node5_ifaceb.get_device_name()}')"
   ]
  },
  {
   "cell_type": "code",
   "execution_count": null,
   "id": "736bd6e0-d1b3-45ee-9013-e746c0a7eb29",
   "metadata": {},
   "outputs": [],
   "source": [
    "node1 = slice.get_node(name=node1_name) \n",
    "stdout, stderr = node1.execute(f'sudo ip link set dev {node1_ifacea.get_device_name()} up')\n",
    "stdout, stderr = node1.execute(f'sudo ip link set dev {node1_ifaceb.get_device_name()} up')\n",
    "stdout, stderr = node1.execute(f'sudo ip link set dev {node1_ifacec.get_device_name()} up')\n",
    "node2 = slice.get_node(name=node2_name) \n",
    "stdout, stderr = node2.execute(f'sudo ip link set dev {node2_ifacea.get_device_name()} up')\n",
    "stdout, stderr = node2.execute(f'sudo ip link set dev {node2_ifaceb.get_device_name()} up')\n",
    "stdout, stderr = node2.execute(f'sudo ip link set dev {node2_ifacec.get_device_name()} up')\n",
    "node3 = slice.get_node(name=node3_name) \n",
    "stdout, stderr = node3.execute(f'sudo ip link set dev {node3_ifacea.get_device_name()} up')\n",
    "stdout, stderr = node3.execute(f'sudo ip link set dev {node3_ifaceb.get_device_name()} up')\n",
    "stdout, stderr = node3.execute(f'sudo ip link set dev {node3_ifacec.get_device_name()} up')\n",
    "stdout, stderr = node3.execute(f'sudo ip link set dev {node3_ifaced.get_device_name()} up')\n",
    "node4 = slice.get_node(name=node4_name) \n",
    "stdout, stderr = node4.execute(f'sudo ip link set dev {node4_ifacea.get_device_name()} up')\n",
    "stdout, stderr = node4.execute(f'sudo ip link set dev {node4_ifaceb.get_device_name()} up')\n",
    "node5 = slice.get_node(name=node5_name) \n",
    "stdout, stderr = node5.execute(f'sudo ip link set dev {node5_ifacea.get_device_name()} up')\n",
    "stdout, stderr = node5.execute(f'sudo ip link set dev {node5_ifaceb.get_device_name()} up')"
   ]
  },
  {
   "cell_type": "markdown",
   "id": "6372450d-cd2f-4f58-9ec6-0c2492918238",
   "metadata": {},
   "source": [
    "## Testing direct connections"
   ]
  },
  {
   "cell_type": "code",
   "execution_count": null,
   "id": "0f859f01-b9c2-4c7f-a7a5-72ff13af9765",
   "metadata": {},
   "outputs": [],
   "source": [
    "stdout, stderr = node3.execute(f'ping -c 5 {node2_ifacec}')"
   ]
  },
  {
   "cell_type": "markdown",
   "id": "af20ffbe-a568-4a74-b26d-d7abb5bd8d33",
   "metadata": {},
   "source": [
    "## Enabling forwarding on all nodes"
   ]
  },
  {
   "cell_type": "code",
   "execution_count": null,
   "id": "8d1d2383-1f3d-4d52-a4c5-06f605a9afaf",
   "metadata": {},
   "outputs": [],
   "source": [
    "nodes = [node1, node2, node3, node4, node5]\n",
    "for node in nodes:\n",
    "    stdout, stderr = node.execute('sudo echo 1 | sudo tee /proc/sys/net/ipv4/ip_forward')"
   ]
  },
  {
   "cell_type": "markdown",
   "id": "91d5a380-1deb-4a82-a166-1270d9f3ba57",
   "metadata": {},
   "source": [
    "## Adding static routes"
   ]
  },
  {
   "cell_type": "code",
   "execution_count": null,
   "id": "c4c54140-b448-467c-bc1d-61feca3531e0",
   "metadata": {},
   "outputs": [],
   "source": [
    "#stdout, stderr = node.execute('ip link ')\n",
    "print(node5_ifaceb.get_ip_addr())"
   ]
  },
  {
   "cell_type": "code",
   "execution_count": null,
   "id": "5531519d-24a5-474b-b19b-784f733ae463",
   "metadata": {},
   "outputs": [],
   "source": [
    "stdout, stderr = node1.execute(f'sudo ip route add {subnet3} via {node3_ifacea.get_ip_addr()}')\n",
    "stdout, stderr = node1.execute(f'sudo ip route add {subnet2} via {node3_ifacea.get_ip_addr()}')\n",
    "stdout, stderr = node1.execute(f'sudo ip route add {subnet4} via {node3_ifacea.get_ip_addr()}')\n",
    "stdout, stderr = node1.execute(f'sudo ip route add {subnet7} via {node2_ifacea.get_ip_addr()}')"
   ]
  },
  {
   "cell_type": "code",
   "execution_count": null,
   "id": "7094ee82-25ef-4b66-8324-d36cc5bec088",
   "metadata": {},
   "outputs": [],
   "source": [
    "stdout, stderr = node2.execute(f'sudo ip route add {subnet6} via {node1_ifaceb.get_ip_addr()}')\n",
    "stdout, stderr = node2.execute(f'sudo ip route add {subnet1} via {node3_ifaceb.get_ip_addr()}')\n",
    "stdout, stderr = node2.execute(f'sudo ip route add {subnet3} via {node3_ifaceb.get_ip_addr()}')\n",
    "stdout, stderr = node2.execute(f'sudo ip route add {subnet4} via {node3_ifaceb.get_ip_addr()}')"
   ]
  },
  {
   "cell_type": "code",
   "execution_count": null,
   "id": "b5dbb0df-4988-448e-95be-730c1af9b2f1",
   "metadata": {},
   "outputs": [],
   "source": [
    "stdout, stderr = node5.execute(f'sudo ip route add {subnet5} via {node2_ifacec.get_ip_addr()}')\n",
    "stdout, stderr = node5.execute(f'sudo ip route add {subnet2} via {node2_ifacec.get_ip_addr()}')\n",
    "stdout, stderr = node5.execute(f'sudo ip route add {subnet1} via {node3_ifaced.get_ip_addr()}')\n",
    "stdout, stderr = node5.execute(f'sudo ip route add {subnet3} via {node3_ifaced.get_ip_addr()}')\n",
    "stdout, stderr = node5.execute(f'sudo ip route add {subnet6} via {node3_ifaced.get_ip_addr()}')"
   ]
  },
  {
   "cell_type": "code",
   "execution_count": null,
   "id": "310478dc-8558-4b40-94d3-de2a57d82d31",
   "metadata": {},
   "outputs": [],
   "source": [
    "stdout, stderr = node3.execute(f'sudo ip route add {subnet6} via {node1_ifacec.get_ip_addr()}')\n",
    "stdout, stderr = node3.execute(f'sudo ip route add {subnet5} via {node1_ifacec.get_ip_addr()}')\n",
    "stdout, stderr = node3.execute(f'sudo ip route add {subnet7} via {node2_ifaceb.get_ip_addr()}')"
   ]
  },
  {
   "cell_type": "code",
   "execution_count": null,
   "id": "a4183b93-89ce-4c6e-bd21-bca20c50400a",
   "metadata": {},
   "outputs": [],
   "source": [
    "stdout, stderr = node4.execute(f'sudo ip route add {subnet1} via {node1_ifacea.get_ip_addr()}')\n",
    "stdout, stderr = node4.execute(f'sudo ip route add {subnet5} via {node1_ifacea.get_ip_addr()}')\n",
    "stdout, stderr = node4.execute(f'sudo ip route add {subnet2} via {node3_ifacec.get_ip_addr()}')\n",
    "stdout, stderr = node4.execute(f'sudo ip route add {subnet4} via {node3_ifacec.get_ip_addr()}')\n",
    "stdout, stderr = node4.execute(f'sudo ip route add {subnet7} via {node3_ifacec.get_ip_addr()}')"
   ]
  },
  {
   "cell_type": "code",
   "execution_count": null,
   "id": "ad2d4459-81e3-42e7-a533-7d3760a266db",
   "metadata": {},
   "outputs": [],
   "source": [
    "stdout, stderr = node1.execute(f'echo \"{node2_addra} {node2_name}\" | sudo tee -a /etc/hosts ')\n",
    "stdout, stderr = node1.execute(f'echo \"{node3_addra} {node3_name}\" | sudo tee -a /etc/hosts ')\n",
    "stdout, stderr = node1.execute(f'echo \"{node4_addra} {node4_name}\" | sudo tee -a /etc/hosts ')\n",
    "stdout, stderr = node1.execute(f'echo \"{node5_addrb} {node5_name}\" | sudo tee -a /etc/hosts ')\n",
    "\n",
    "stdout, stderr = node2.execute(f'echo \"{node1_addrb} {node1_name}\" | sudo tee -a /etc/hosts ')\n",
    "stdout, stderr = node2.execute(f'echo \"{node3_addrb} {node3_name}\" | sudo tee -a /etc/hosts ')\n",
    "stdout, stderr = node2.execute(f'echo \"{node4_addrb} {node4_name}\" | sudo tee -a /etc/hosts ')\n",
    "stdout, stderr = node2.execute(f'echo \"{node5_addra} {node5_name}\" | sudo tee -a /etc/hosts ')\n",
    "\n",
    "stdout, stderr = node3.execute(f'echo \"{node1_addrc} {node1_name}\" | sudo tee -a /etc/hosts ')\n",
    "stdout, stderr = node3.execute(f'echo \"{node2_addrb} {node2_name}\" | sudo tee -a /etc/hosts ')\n",
    "stdout, stderr = node3.execute(f'echo \"{node4_addrb} {node4_name}\" | sudo tee -a /etc/hosts ')\n",
    "stdout, stderr = node3.execute(f'echo \"{node5_addrb} {node5_name}\" | sudo tee -a /etc/hosts ')\n",
    "\n",
    "stdout, stderr = node4.execute(f'echo \"{node1_addra} {node1_name}\" | sudo tee -a /etc/hosts ')\n",
    "stdout, stderr = node4.execute(f'echo \"{node2_addrb} {node2_name}\" | sudo tee -a /etc/hosts ')\n",
    "stdout, stderr = node4.execute(f'echo \"{node3_addrc} {node3_name}\" | sudo tee -a /etc/hosts ')\n",
    "stdout, stderr = node4.execute(f'echo \"{node5_addrb} {node5_name}\" | sudo tee -a /etc/hosts ')\n",
    "\n",
    "stdout, stderr = node5.execute(f'echo \"{node1_addrc} {node1_name}\" | sudo tee -a /etc/hosts ')\n",
    "stdout, stderr = node5.execute(f'echo \"{node2_addrc} {node2_name}\" | sudo tee -a /etc/hosts ')\n",
    "stdout, stderr = node5.execute(f'echo \"{node3_addrd} {node3_name}\" | sudo tee -a /etc/hosts ')\n",
    "stdout, stderr = node5.execute(f'echo \"{node4_addrb} {node4_name}\" | sudo tee -a /etc/hosts ')"
   ]
  }
 ],
 "metadata": {
  "kernelspec": {
   "display_name": "Python 3 (ipykernel)",
   "language": "python",
   "name": "python3"
  },
  "language_info": {
   "codemirror_mode": {
    "name": "ipython",
    "version": 3
   },
   "file_extension": ".py",
   "mimetype": "text/x-python",
   "name": "python",
   "nbconvert_exporter": "python",
   "pygments_lexer": "ipython3",
   "version": "3.10.6"
  }
 },
 "nbformat": 4,
 "nbformat_minor": 5
}
