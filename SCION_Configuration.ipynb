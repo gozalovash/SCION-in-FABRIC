{
 "cells": [
  {
   "cell_type": "markdown",
   "id": "4fd03ee9-0f12-4d51-bdcf-317c727fc486",
   "metadata": {},
   "source": [
    "## Import the FABlib Library"
   ]
  },
  {
   "cell_type": "code",
   "execution_count": null,
   "id": "af63dc0b-7dbf-42d0-ac1e-07a25997401c",
   "metadata": {},
   "outputs": [],
   "source": [
    "from fabrictestbed_extensions.fablib.fablib import FablibManager as fablib_manager\n",
    "fablib = fablib_manager()\n",
    "fablib.show_config();"
   ]
  },
  {
   "cell_type": "markdown",
   "id": "6e65bf1d-3d4b-492e-ab65-e2a3be9ded99",
   "metadata": {},
   "source": [
    "## Get the slice and the nodes"
   ]
  },
  {
   "cell_type": "code",
   "execution_count": null,
   "id": "bd973a01-c194-423f-8c7d-ab6ca4a9f1f9",
   "metadata": {},
   "outputs": [],
   "source": [
    "slice_name = '{SLICE_NAME}'\n",
    "# naming nodes\n",
    "node1_name = 'scion01'\n",
    "node2_name = 'scion02'\n",
    "node3_name = 'scion03'\n",
    "node4_name = 'scion04'\n",
    "node5_name = 'scion05'\n",
    "# creating l2 networks\n",
    "network_name12='net12'\n",
    "network_name14='net14'\n",
    "network_name13='net13'\n",
    "network_name23='net23'\n",
    "network_name25='net25'\n",
    "network_name34='net34'\n",
    "network_name35='net35'\n",
    "# namic NICs\n",
    "node1a_nic_name = 'nic1a'\n",
    "node1b_nic_name = 'nic1b'\n",
    "node1c_nic_name = 'nic1c'\n",
    "node2a_nic_name = 'nic2a'\n",
    "node2b_nic_name = 'nic2b'\n",
    "node2c_nic_name = 'nic2c'\n",
    "node3a_nic_name = 'nic3a'\n",
    "node3b_nic_name = 'nic3b'\n",
    "node3c_nic_name = 'nic3c'\n",
    "node3d_nic_name = 'nic3d'\n",
    "node4a_nic_name = 'nic4a'\n",
    "node4b_nic_name = 'nic4b'\n",
    "node5a_nic_name = 'nic5a'\n",
    "node5b_nic_name = 'nic5b'"
   ]
  },
  {
   "cell_type": "code",
   "execution_count": null,
   "id": "def7b06a-0e70-4a96-a60c-1e09d82c1c90",
   "metadata": {},
   "outputs": [],
   "source": [
    "slice = fablib.get_slice(name=slice_name)"
   ]
  },
  {
   "cell_type": "code",
   "execution_count": null,
   "id": "706b88b8-1988-4f05-ad4d-fcaa46fda1c4",
   "metadata": {},
   "outputs": [],
   "source": [
    "##get the nodes\n",
    "node1 = slice.get_node(name=node1_name)\n",
    "node2 = slice.get_node(name=node2_name)\n",
    "node3 = slice.get_node(name=node3_name)\n",
    "node4 = slice.get_node(name=node4_name)\n",
    "node5 = slice.get_node(name=node5_name)\n",
    "\n",
    "nodes = [node1, node2, node3, node4, node5]"
   ]
  },
  {
   "cell_type": "code",
   "execution_count": null,
   "id": "b7bedfc2-7742-4443-9aab-1e31ab879ecf",
   "metadata": {},
   "outputs": [],
   "source": [
    "from ipaddress import ip_address, IPv4Address, IPv6Address, IPv4Network, IPv6Network\n",
    "\n",
    "subnet1 = IPv4Network(\"{SUBNET1}\")\n",
    "subnet2 = IPv4Network(\"{SUBNET2}\")\n",
    "subnet3 = IPv4Network(\"{SUBNET3}\")\n",
    "subnet4 = IPv4Network(\"{SUBNET4}\")\n",
    "subnet5 = IPv4Network(\"{SUBNET5}\")\n",
    "subnet6 = IPv4Network(\"{SUBNET6}\")\n",
    "subnet7 = IPv4Network(\"{SUBNET7}\")\n",
    "\n",
    "available_ips1 = list(subnet1)[1:]\n",
    "available_ips2 = list(subnet2)[1:]\n",
    "available_ips3 = list(subnet3)[1:]\n",
    "available_ips4 = list(subnet4)[1:]\n",
    "available_ips5 = list(subnet5)[1:]\n",
    "available_ips6 = list(subnet6)[1:]\n",
    "available_ips7 = list(subnet7)[1:]"
   ]
  },
  {
   "cell_type": "markdown",
   "id": "eea11dbf-0d8c-4b25-9634-745de4b31a9c",
   "metadata": {},
   "source": [
    "# OS SETUP"
   ]
  },
  {
   "cell_type": "code",
   "execution_count": null,
   "id": "3cdc0c68-fb4a-4a66-88e6-39a35ee93522",
   "metadata": {},
   "outputs": [],
   "source": [
    "nodes = [node1, node2, node3, node4, node5]"
   ]
  },
  {
   "cell_type": "code",
   "execution_count": null,
   "id": "66dd2fd4-337b-4eff-af5e-9479ace98879",
   "metadata": {},
   "outputs": [],
   "source": [
    "nodes = [node1, node2, node3, node4, node5]\n",
    "for node in nodes:\n",
    "    result = node.upload_file('{PATH_TO_PRIVATE_SLIVER_KEY_ON_LOCAL_FILEBROWSER}', '{PATH_TO_PRIVATE_SLIVER_KEY_ON_NODE}')\n",
    "    stdout, stderr = node.execute(f'chmod 600 PATH_TO_PRIVATE_SLIVER_KEY_ON_NODE')"
   ]
  },
  {
   "cell_type": "code",
   "execution_count": null,
   "id": "f9ea401f-1e98-4168-b155-4c851553089a",
   "metadata": {},
   "outputs": [],
   "source": [
    "for node in nodes:\n",
    "    stdout, stderr = node.execute('sudo mkdir /etc/scion')\n",
    "    stdout, stderr = node.execute('sudo mkdir -p /var/lib/scion')\n",
    "    stdout, stderr = node.execute('sudo chown -R ubuntu:ubuntu /etc/scion/')\n",
    "    stdout, stderr = node.execute('sudo chown -R ubuntu:ubuntu /var/lib/scion/')\n",
    "    stdout, stderr = node.execute('mkdir -p /etc/scion/certs')\n",
    "    stdout, stderr = node.execute('mkdir -p /etc/scion/crypto/as')\n",
    "    stdout, stderr = node.execute('mkdir -p /etc/scion/keys')"
   ]
  },
  {
   "cell_type": "markdown",
   "id": "ce6f401f-9d3d-48cc-9334-0081d3971b31",
   "metadata": {},
   "source": [
    "## Downloading and Installing software"
   ]
  },
  {
   "cell_type": "code",
   "execution_count": null,
   "id": "e3f4eae9-6e55-492a-9a0e-adad614d533d",
   "metadata": {},
   "outputs": [],
   "source": [
    "for node in nodes:\n",
    "    result = node.execute('wget https://github.com/scionproto/scion/releases/download/v0.9.1/scion_v0.9.1_amd64_linux.tar.gz')\n",
    "    stdout, stderr = node.execute('sudo mkdir /usr/local/scion')\n",
    "    stdout, stderr = node.execute('sudo tar xfz scion_v0.9.1_amd64_linux.tar.gz -C /usr/local/scion')"
   ]
  },
  {
   "cell_type": "markdown",
   "id": "b9554cb1-04e0-4130-ab50-12b259f9eb49",
   "metadata": {},
   "source": [
    "# AS Configuration"
   ]
  },
  {
   "cell_type": "markdown",
   "id": "d5eda53c-8879-4352-bad4-2dd43b589cf2",
   "metadata": {},
   "source": [
    "## STEP1 - Topology files"
   ]
  },
  {
   "cell_type": "code",
   "execution_count": null,
   "id": "11b1d955-6519-4b41-bf06-782321c88205",
   "metadata": {},
   "outputs": [],
   "source": [
    "## Uploade the topologies to the folder \"topologies\" of the directory where the current file resides\n",
    "i = 1\n",
    "for node in nodes:\n",
    "    result = node.upload_file(f'topologies/topology{i}.json', '/etc/scion/topology.json')\n",
    "    i += 1"
   ]
  },
  {
   "cell_type": "code",
   "execution_count": null,
   "id": "758de317-e106-4b5b-be36-ae8886a68653",
   "metadata": {},
   "outputs": [],
   "source": [
    "## replacing IPs in files with the actual IPs used in topology\n",
    "for node in nodes:\n",
    "    stdout, stderr = node.execute(\"sed -i 's/10.0.0.1/{YOUR_NODE1_IP}/g' /etc/scion/topology.json\")\n",
    "    stdout, stderr = node.execute(\"sed -i 's/10.0.0.2/{YOUR_NODE2_IP}/g' /etc/scion/topology.json\")\n",
    "    stdout, stderr = node.execute(\"sed -i 's/10.0.0.3/{YOUR_NODE3_IP}/g' /etc/scion/topology.json\")\n",
    "    stdout, stderr = node.execute(\"sed -i 's/10.0.0.4/{YOUR_NODE4_IP}/g' /etc/scion/topology.json\")\n",
    "    stdout, stderr = node.execute(\"sed -i 's/10.0.0.5/{YOUR_NODE5_IP}/g' /etc/scion/topology.json\")"
   ]
  },
  {
   "cell_type": "markdown",
   "id": "9f475ada-65c8-4400-9c79-8ae24958d246",
   "metadata": {},
   "source": [
    "## Step 2 - Generate the Required Certificates"
   ]
  },
  {
   "cell_type": "code",
   "execution_count": null,
   "id": "4e245167-bae0-42c0-83b3-067332ba61e9",
   "metadata": {},
   "outputs": [],
   "source": [
    "## Uploading wide topology file node1\n",
    "result = node1.upload_file(f'topologies/TutorialDeploymentTopology.topo', 'TutorialDeploymentTopology.topo')"
   ]
  },
  {
   "cell_type": "code",
   "execution_count": null,
   "id": "13ab702a-547f-4dd8-b41b-5bb1d64fba73",
   "metadata": {},
   "outputs": [],
   "source": [
    "## Generating the required certificates in node 1\n",
    "stdout, stderr = node1.execute(\"/usr/local/scion/scion-pki testcrypto -t TutorialDeploymentTopology.topo\")"
   ]
  },
  {
   "cell_type": "markdown",
   "id": "0cb9ced5-99c3-4bd9-bad3-6c953b373253",
   "metadata": {},
   "source": [
    "## Copying certs to nodes\n",
    "Steps to reproduce:\n",
    "- SSH into node 1\n",
    "- NOTE: in the following commands 'i' represents the number of the node. Replace i with 1 up and till 5. If you have another naming convention for your nodes like 'scion01' then use that naming convention\n",
    "- Execute this line 'scp -i {yourPrivateSilverKeyName} -r gen/ASffaa_1_{i}/crypto ubuntu@Node{i}:/etc/scion'\n",
    "- Then Execute this 'scp -i KNIT6TutorialSliverKey -r gen/trcs/ISD42-B1-S1.trc ubuntu@Node{i}:/etc/scion/certs/'\n",
    "\n",
    "source: https://scion--4435.org.readthedocs.build/en/4435/tutorials/deploy.html (under section \"Step 2 - Generate the Required Certificates\")"
   ]
  },
  {
   "cell_type": "code",
   "execution_count": null,
   "id": "bf0bc2fc-95d1-466f-b19d-beca3bef8192",
   "metadata": {},
   "outputs": [],
   "source": [
    "## copying certs to nodes\n",
    "# fails because needs prompt confirmation for adding the certs in the terminal - not fixed yet.\n",
    "\n",
    "# for i in range (1,6):\n",
    "#     print(i)\n",
    "#     stdout, stderr = node1.execute(f\"echo 'yes' | scp -i {PATH_TO_PRIVATE_SLIVER_KEY} -r gen/ASffaa_1_{i}/crypto ubuntu@scion0{i}:/etc/scion\")\n",
    "#     stdout, stderr = node1.execute(f\"echo 'yes' | scp -i {PATH_TO_PRIVATE_SLIVER_KEY} -r gen/trcs/ISD42-B1-S1.trc ubuntu@scion0{i}:/etc/scion/certs/\")"
   ]
  },
  {
   "cell_type": "markdown",
   "id": "3c99b6d7-d141-4269-abe2-4deee05b80b1",
   "metadata": {},
   "source": [
    "## Generate Forwarding Secret Keys"
   ]
  },
  {
   "cell_type": "code",
   "execution_count": null,
   "id": "71f391b0-b303-4d34-a010-a1cf0fd22c08",
   "metadata": {},
   "outputs": [],
   "source": [
    "for node in nodes:\n",
    "    stdout, stderr = node.execute(\"dd if=/dev/urandom bs=16 count=1 | base64 - > /etc/scion/keys/master0.key\")\n",
    "    stdout, stderr = node.execute(\"dd if=/dev/urandom bs=16 count=1 | base64 - > /etc/scion/keys/master1.key\")"
   ]
  },
  {
   "cell_type": "markdown",
   "id": "6007f1d7-8e64-4e49-bc21-81ce17a20626",
   "metadata": {},
   "source": [
    "## Service Configuration Files"
   ]
  },
  {
   "cell_type": "code",
   "execution_count": null,
   "id": "60881a77-9aaa-4f39-bc68-5dacdfe19184",
   "metadata": {},
   "outputs": [],
   "source": [
    "## the toml configuration files are in the toml_files folder of working directory\n",
    "for node in nodes:\n",
    "    result = node.upload_file(f'toml_files/br.toml', '/etc/scion/br.toml')\n",
    "    result = node.upload_file(f'toml_files/cs.toml', '/etc/scion/cs.toml')\n",
    "    result = node.upload_file(f'toml_files/dispatcher.toml', '/etc/scion/dispatcher.toml')\n",
    "    result = node.upload_file(f'toml_files/sd.toml', '/etc/scion/sd.toml')"
   ]
  },
  {
   "cell_type": "markdown",
   "id": "3f18d40d-0ca8-4cd2-822e-1b380f7cc9e4",
   "metadata": {},
   "source": [
    "## Start the Services"
   ]
  },
  {
   "cell_type": "code",
   "execution_count": null,
   "id": "276444b9-0f13-44e6-aaf3-494058a2178a",
   "metadata": {},
   "outputs": [],
   "source": [
    "for node in nodes:\n",
    "    stdout, stderr = node.execute(f'/usr/local/scion/router --config /etc/scion/br.toml > router.log 2>&1 &')\n",
    "    stdout, stderr = node.execute(f'/usr/local/scion/dispatcher --config /etc/scion/dispatcher.toml > dispatcher.log 2>&1 &')\n",
    "    stdout, stderr = node.execute(f'/usr/local/scion/control --config /etc/scion/cs.toml > control.log 2>&1 &')\n",
    "    stdout, stderr = node.execute(f'/usr/local/scion/daemon --config /etc/scion/sd.toml > daemon.log 2>&1 &')"
   ]
  },
  {
   "cell_type": "markdown",
   "id": "7d852b51-5ef6-4923-935a-08d2c864fc0f",
   "metadata": {},
   "source": [
    "## Testing the connectivity"
   ]
  },
  {
   "cell_type": "code",
   "execution_count": null,
   "id": "67cb900f-e974-470f-81cc-35fb8e2921bd",
   "metadata": {},
   "outputs": [],
   "source": [
    "for node in nodes:\n",
    "    stdout, stderr = node.execute('/usr/local/scion/scion address')"
   ]
  },
  {
   "cell_type": "code",
   "execution_count": null,
   "id": "7e4d4eee-7698-4beb-9558-93ee3b9aedcf",
   "metadata": {},
   "outputs": [],
   "source": [
    "#ping from node1 to node5\n",
    "stdout, stderr = node1.execute('/usr/local/scion/scion ping 42-ffaa:1:5,127.0.0.1 -c 5')"
   ]
  },
  {
   "cell_type": "code",
   "execution_count": null,
   "id": "0b4e74a6-ed06-4c67-913d-8e6d48d5c829",
   "metadata": {},
   "outputs": [],
   "source": [
    "#verifying different path availability\n",
    "stdout, stderr = node1.execute('/usr/local/scion/scion showpaths 42-ffaa:1:5')"
   ]
  }
 ],
 "metadata": {
  "kernelspec": {
   "display_name": "Python 3 (ipykernel)",
   "language": "python",
   "name": "python3"
  },
  "language_info": {
   "codemirror_mode": {
    "name": "ipython",
    "version": 3
   },
   "file_extension": ".py",
   "mimetype": "text/x-python",
   "name": "python",
   "nbconvert_exporter": "python",
   "pygments_lexer": "ipython3",
   "version": "3.10.6"
  }
 },
 "nbformat": 4,
 "nbformat_minor": 5
}
